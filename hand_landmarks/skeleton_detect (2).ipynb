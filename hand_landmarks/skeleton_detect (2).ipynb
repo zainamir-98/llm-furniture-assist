{
 "cells": [
  {
   "cell_type": "code",
   "execution_count": 7,
   "metadata": {},
   "outputs": [
    {
     "name": "stdout",
     "output_type": "stream",
     "text": [
      "Requirement already satisfied: mediapipe in c:\\users\\zaman\\scoop\\apps\\miniconda3\\4.12.0\\lib\\site-packages (0.10.2)\n",
      "Requirement already satisfied: absl-py in c:\\users\\zaman\\scoop\\apps\\miniconda3\\4.12.0\\lib\\site-packages (from mediapipe) (1.2.0)\n",
      "Requirement already satisfied: attrs>=19.1.0 in c:\\users\\zaman\\scoop\\apps\\miniconda3\\4.12.0\\lib\\site-packages (from mediapipe) (23.1.0)\n",
      "Requirement already satisfied: flatbuffers>=2.0 in c:\\users\\zaman\\scoop\\apps\\miniconda3\\4.12.0\\lib\\site-packages (from mediapipe) (23.3.3)\n",
      "Requirement already satisfied: matplotlib in c:\\users\\zaman\\scoop\\apps\\miniconda3\\4.12.0\\lib\\site-packages (from mediapipe) (3.5.2)\n",
      "Requirement already satisfied: numpy in c:\\users\\zaman\\scoop\\apps\\miniconda3\\4.12.0\\lib\\site-packages (from mediapipe) (1.23.0)\n",
      "Requirement already satisfied: opencv-contrib-python in c:\\users\\zaman\\scoop\\apps\\miniconda3\\4.12.0\\lib\\site-packages (from mediapipe) (4.8.0.74)\n",
      "Requirement already satisfied: protobuf<4,>=3.11 in c:\\users\\zaman\\scoop\\apps\\miniconda3\\4.12.0\\lib\\site-packages (from mediapipe) (3.20.3)\n",
      "Requirement already satisfied: sounddevice>=0.4.4 in c:\\users\\zaman\\scoop\\apps\\miniconda3\\4.12.0\\lib\\site-packages (from mediapipe) (0.4.6)\n",
      "Requirement already satisfied: CFFI>=1.0 in c:\\users\\zaman\\scoop\\apps\\miniconda3\\4.12.0\\lib\\site-packages (from sounddevice>=0.4.4->mediapipe) (1.15.0)\n",
      "Requirement already satisfied: cycler>=0.10 in c:\\users\\zaman\\scoop\\apps\\miniconda3\\4.12.0\\lib\\site-packages (from matplotlib->mediapipe) (0.11.0)\n",
      "Requirement already satisfied: fonttools>=4.22.0 in c:\\users\\zaman\\scoop\\apps\\miniconda3\\4.12.0\\lib\\site-packages (from matplotlib->mediapipe) (4.33.3)\n",
      "Requirement already satisfied: kiwisolver>=1.0.1 in c:\\users\\zaman\\scoop\\apps\\miniconda3\\4.12.0\\lib\\site-packages (from matplotlib->mediapipe) (1.4.3)\n",
      "Requirement already satisfied: packaging>=20.0 in c:\\users\\zaman\\scoop\\apps\\miniconda3\\4.12.0\\lib\\site-packages (from matplotlib->mediapipe) (21.3)\n",
      "Requirement already satisfied: pillow>=6.2.0 in c:\\users\\zaman\\scoop\\apps\\miniconda3\\4.12.0\\lib\\site-packages (from matplotlib->mediapipe) (9.1.1)\n",
      "Requirement already satisfied: pyparsing>=2.2.1 in c:\\users\\zaman\\scoop\\apps\\miniconda3\\4.12.0\\lib\\site-packages (from matplotlib->mediapipe) (3.0.9)\n",
      "Requirement already satisfied: python-dateutil>=2.7 in c:\\users\\zaman\\scoop\\apps\\miniconda3\\4.12.0\\lib\\site-packages (from matplotlib->mediapipe) (2.8.2)\n",
      "Requirement already satisfied: pycparser in c:\\users\\zaman\\scoop\\apps\\miniconda3\\4.12.0\\lib\\site-packages (from CFFI>=1.0->sounddevice>=0.4.4->mediapipe) (2.21)\n",
      "Requirement already satisfied: six>=1.5 in c:\\users\\zaman\\scoop\\apps\\miniconda3\\4.12.0\\lib\\site-packages (from python-dateutil>=2.7->matplotlib->mediapipe) (1.16.0)\n"
     ]
    },
    {
     "name": "stderr",
     "output_type": "stream",
     "text": [
      "WARNING: Ignoring invalid distribution -ix (c:\\users\\zaman\\scoop\\apps\\miniconda3\\4.12.0\\lib\\site-packages)\n",
      "WARNING: Ignoring invalid distribution -ix (c:\\users\\zaman\\scoop\\apps\\miniconda3\\4.12.0\\lib\\site-packages)\n"
     ]
    },
    {
     "name": "stdout",
     "output_type": "stream",
     "text": [
      "Requirement already satisfied: chumpy in c:\\users\\zaman\\scoop\\apps\\miniconda3\\4.12.0\\lib\\site-packages (0.70)\n",
      "Requirement already satisfied: scipy>=0.13.0 in c:\\users\\zaman\\scoop\\apps\\miniconda3\\4.12.0\\lib\\site-packages (from chumpy) (1.8.1)\n",
      "Requirement already satisfied: six>=1.11.0 in c:\\users\\zaman\\scoop\\apps\\miniconda3\\4.12.0\\lib\\site-packages (from chumpy) (1.16.0)\n",
      "Requirement already satisfied: numpy<1.25.0,>=1.17.3 in c:\\users\\zaman\\scoop\\apps\\miniconda3\\4.12.0\\lib\\site-packages (from scipy>=0.13.0->chumpy) (1.23.0)\n"
     ]
    },
    {
     "name": "stderr",
     "output_type": "stream",
     "text": [
      "WARNING: Ignoring invalid distribution -ix (c:\\users\\zaman\\scoop\\apps\\miniconda3\\4.12.0\\lib\\site-packages)\n",
      "WARNING: Ignoring invalid distribution -ix (c:\\users\\zaman\\scoop\\apps\\miniconda3\\4.12.0\\lib\\site-packages)\n"
     ]
    },
    {
     "name": "stdout",
     "output_type": "stream",
     "text": [
      "Requirement already satisfied: protobuf==3.20.* in c:\\users\\zaman\\scoop\\apps\\miniconda3\\4.12.0\\lib\\site-packages (3.20.3)\n"
     ]
    },
    {
     "name": "stderr",
     "output_type": "stream",
     "text": [
      "WARNING: Ignoring invalid distribution -ix (c:\\users\\zaman\\scoop\\apps\\miniconda3\\4.12.0\\lib\\site-packages)\n",
      "WARNING: Ignoring invalid distribution -ix (c:\\users\\zaman\\scoop\\apps\\miniconda3\\4.12.0\\lib\\site-packages)\n"
     ]
    },
    {
     "name": "stdout",
     "output_type": "stream",
     "text": [
      "Requirement already satisfied: opencv-python in c:\\users\\zaman\\scoop\\apps\\miniconda3\\4.12.0\\lib\\site-packages (4.7.0.72)\n",
      "Requirement already satisfied: numpy>=1.17.0 in c:\\users\\zaman\\scoop\\apps\\miniconda3\\4.12.0\\lib\\site-packages (from opencv-python) (1.23.0)\n"
     ]
    },
    {
     "name": "stderr",
     "output_type": "stream",
     "text": [
      "WARNING: Ignoring invalid distribution -ix (c:\\users\\zaman\\scoop\\apps\\miniconda3\\4.12.0\\lib\\site-packages)\n",
      "WARNING: Ignoring invalid distribution -ix (c:\\users\\zaman\\scoop\\apps\\miniconda3\\4.12.0\\lib\\site-packages)\n"
     ]
    }
   ],
   "source": [
    "!pip install mediapipe\n",
    "!pip install chumpy\n",
    "!pip install protobuf==3.20.*\n",
    "!pip install opencv-python"
   ]
  },
  {
   "cell_type": "code",
   "execution_count": 7,
   "metadata": {},
   "outputs": [],
   "source": [
    "# import related package and initialize Mediapipe hand\n",
    "\n",
    "import cv2\n",
    "import numpy as np\n",
    "import chumpy as ch\n",
    "import mediapipe as mp\n",
    "import matplotlib.pyplot as plt\n",
    "from mpl_toolkits.axes_grid1 import ImageGrid\n",
    "import os\n",
    "import torch\n",
    "%matplotlib inline\n",
    "mp_hands = mp.solutions.hands\n",
    "mp_drawing = mp.solutions.drawing_utils\n",
    "mp_drawing_styles = mp.solutions.drawing_styles\n",
    "\n",
    "HANDS_IDX = [2, 3]"
   ]
  },
  {
   "cell_type": "code",
   "execution_count": 4,
   "metadata": {},
   "outputs": [],
   "source": [
    "img_path = 'C:/Users/Zaman/Documents/GitHub Repos/project-jarvis/landmarks/s4_t2/raw_images'\n",
    "bbox_path = 'C:/Users/Zaman/Documents/GitHub Repos/project-jarvis/landmarks/s4_t2/bounding_box'\n",
    "\n",
    "img_list = os.listdir(img_path)\n",
    "bbox_list = os.listdir(bbox_path)\n",
    "\n",
    "count = 10\n",
    "img_list = img_list[:count]\n",
    "bbox_list = bbox_list[:count]\n",
    "\n",
    "for c in range(count):\n",
    "    img_list[c] = img_path + '/' + img_list[c]\n",
    "    bbox_list[c] = bbox_path + '/' + bbox_list[c]"
   ]
  },
  {
   "cell_type": "code",
   "execution_count": 5,
   "metadata": {},
   "outputs": [],
   "source": [
    "def get_bbox_rl(bbox_filepath, image_width, image_height):\n",
    "    file = open(bbox_filepath, 'r')\n",
    "    Lines = file.readlines()\n",
    "\n",
    "    bbox_r = []\n",
    "    bbox_l = []\n",
    "    \n",
    "    # Strips the newline character\n",
    "    for line in Lines:\n",
    "        l = line.strip()\n",
    "        l = l.split()\n",
    "        if l[0] == str(HANDS_IDX[0]):\n",
    "            for i in range(4):\n",
    "                bbox_l.append(float(l[i+1]))\n",
    "        elif l[0] == str(HANDS_IDX[1]):\n",
    "            for i in range(4):\n",
    "                bbox_r.append(float(l[i+1]))\n",
    "\n",
    "    # [x_center, y_center, width, height]\n",
    "    # TO\n",
    "    # [x1, x2, y1, y2]\n",
    "\n",
    "    x1 = int((bbox_r[0] - bbox_r[2]/2) * image_width)\n",
    "    x2 = int((bbox_r[0] + bbox_r[2]/2) * image_width)\n",
    "    y1 = int((bbox_r[1] - bbox_r[3]/2) * image_height)\n",
    "    y2 = int((bbox_r[1] + bbox_r[3]/2) * image_height)\n",
    "\n",
    "    bbox_r = [x1, x2, y1, y2]\n",
    "\n",
    "    x1 = int((bbox_l[0] - bbox_l[2]/2) * image_width)\n",
    "    x2 = int((bbox_l[0] + bbox_l[2]/2) * image_width)\n",
    "    y1 = int((bbox_l[1] - bbox_l[3]/2) * image_height)\n",
    "    y2 = int((bbox_l[1] + bbox_l[3]/2) * image_height)\n",
    "\n",
    "    bbox_l = [x1, x2, y1, y2]\n",
    "\n",
    "    return bbox_r, bbox_l"
   ]
  },
  {
   "cell_type": "code",
   "execution_count": 8,
   "metadata": {},
   "outputs": [
    {
     "name": "stdout",
     "output_type": "stream",
     "text": [
      "7\n"
     ]
    }
   ],
   "source": [
    "IMAGE_FILES = img_list\n",
    "ANNOTATED_IMAGES = []\n",
    "\n",
    "with mp_hands.Hands(\n",
    "    static_image_mode=True,\n",
    "    max_num_hands=1,\n",
    "    min_detection_confidence=0.5) as hands:\n",
    "\n",
    "        for idx, file in enumerate(IMAGE_FILES):\n",
    "            # Read an image, flip it around y-axis for correct handedness output (see\n",
    "            # above).\n",
    "            image = cv2.imread(file)\n",
    "            \n",
    "            bbox_r, bbox_l = get_bbox_rl(bbox_list[idx], image.shape[1], image.shape[0])\n",
    "            image = image[bbox_l[2]:bbox_l[3], bbox_l[0]:bbox_l[1]]\n",
    "            annotated_image = image.copy()\n",
    "\n",
    "            # Convert the BGR image to RGB before processing.\n",
    "            results = hands.process(cv2.cvtColor(image, cv2.COLOR_BGR2RGB))\n",
    "\n",
    "            # Print handedness and draw hand landmarks on the image.\n",
    "            # print('Handedness:', results.multi_handedness)\n",
    "            if not results.multi_hand_landmarks:\n",
    "                ANNOTATED_IMAGES.append(annotated_image)\n",
    "                continue\n",
    "            image_height, image_width, _ = image.shape\n",
    "            for hand_landmarks in results.multi_hand_landmarks:\n",
    "                # print('hand_landmarks:', hand_landmarks)\n",
    "                # print(\n",
    "                #     f'Index finger tip coordinates: (',\n",
    "                #     f'{hand_landmarks.landmark[mp_hands.HandLandmark.INDEX_FINGER_TIP].x * image_width}, '\n",
    "                #     f'{hand_landmarks.landmark[mp_hands.HandLandmark.INDEX_FINGER_TIP].y * image_height})'\n",
    "                # )\n",
    "                mp_drawing.draw_landmarks(\n",
    "                    annotated_image,\n",
    "                    hand_landmarks,\n",
    "                    mp_hands.HAND_CONNECTIONS,\n",
    "                    mp_drawing_styles.get_default_hand_landmarks_style(),\n",
    "                    mp_drawing_styles.get_default_hand_connections_style())\n",
    "\n",
    "            ANNOTATED_IMAGES.append(annotated_image)\n",
    "\n",
    "print(len(ANNOTATED_IMAGES))\n"
   ]
  },
  {
   "cell_type": "code",
   "execution_count": 77,
   "metadata": {},
   "outputs": [
    {
     "name": "stdout",
     "output_type": "stream",
     "text": [
      "Right\n"
     ]
    }
   ],
   "source": [
    "# Output format\n",
    "x = results.multi_handedness[0]\n",
    "print(x.classification[0].label)"
   ]
  },
  {
   "cell_type": "code",
   "execution_count": 78,
   "metadata": {},
   "outputs": [
    {
     "name": "stdout",
     "output_type": "stream",
     "text": [
      "1 None\n"
     ]
    }
   ],
   "source": [
    "right_landmarks_idx = None\n",
    "left_landmarks_idx = None\n",
    "\n",
    "count = 0\n",
    "while (count < len(results.multi_handedness)):\n",
    "    l = results.multi_handedness[count].classification[0].label\n",
    "    if l == \"Right\":\n",
    "        right_landmarks_idx = results.multi_handedness[count].classification[0].index\n",
    "    elif l == \"Left\":\n",
    "        left_landmarks_idx = results.multi_handedness[count].classification[0].index\n",
    "    count += 1\n",
    "\n",
    "print(right_landmarks_idx, left_landmarks_idx)"
   ]
  },
  {
   "cell_type": "code",
   "execution_count": 79,
   "metadata": {},
   "outputs": [
    {
     "name": "stdout",
     "output_type": "stream",
     "text": [
      "Right hand landmarks: \n",
      "[]\n",
      "Left hand landmarks: \n",
      "[{'x': 93, 'y': 122}, {'x': 119, 'y': 95}, {'x': 126, 'y': 62}, {'x': 129, 'y': 40}, {'x': 129, 'y': 21}, {'x': 77, 'y': 46}, {'x': 68, 'y': 20}, {'x': 72, 'y': 7}, {'x': 80, 'y': 2}, {'x': 64, 'y': 56}, {'x': 59, 'y': 32}, {'x': 67, 'y': 21}, {'x': 79, 'y': 18}, {'x': 59, 'y': 67}, {'x': 56, 'y': 45}, {'x': 63, 'y': 35}, {'x': 71, 'y': 31}, {'x': 60, 'y': 75}, {'x': 56, 'y': 56}, {'x': 61, 'y': 47}, {'x': 67, 'y': 44}]\n"
     ]
    }
   ],
   "source": [
    "class Landmark:\n",
    "    def __init__(self, image_width, image_height, x, y, z):\n",
    "        self.x = round(x * image_width)\n",
    "        self.y = round(y * image_height)\n",
    "        self.z = round(z)\n",
    "\n",
    "    def output_dict(self):\n",
    "        d = {\n",
    "            \"x\" : self.x,\n",
    "            \"y\" : self.y,\n",
    "            # \"z\" : self.z \n",
    "            }\n",
    "        return d\n",
    "\n",
    "right_landmarks = []\n",
    "left_landmarks = []\n",
    "idx = 0\n",
    "\n",
    "for hand_landmarks in results.multi_hand_landmarks:\n",
    "    for l in hand_landmarks.landmark:\n",
    "        l_obj = Landmark(image_width, image_height, l.x, l.y, l.z)\n",
    "        if right_landmarks_idx == idx:\n",
    "            right_landmarks.append(l_obj.output_dict())\n",
    "        else:\n",
    "            left_landmarks.append(l_obj.output_dict())\n",
    "    idx += 1\n",
    "\n",
    "print(\"Right hand landmarks: \")  \n",
    "print(right_landmarks)\n",
    "\n",
    "print(\"Left hand landmarks: \")\n",
    "print(left_landmarks)"
   ]
  },
  {
   "cell_type": "code",
   "execution_count": null,
   "metadata": {},
   "outputs": [],
   "source": []
  }
 ],
 "metadata": {
  "kernelspec": {
   "display_name": "Python 3.9.12 ('base')",
   "language": "python",
   "name": "python3"
  },
  "language_info": {
   "codemirror_mode": {
    "name": "ipython",
    "version": 3
   },
   "file_extension": ".py",
   "mimetype": "text/x-python",
   "name": "python",
   "nbconvert_exporter": "python",
   "pygments_lexer": "ipython3",
   "version": "3.9.12"
  },
  "orig_nbformat": 4,
  "vscode": {
   "interpreter": {
    "hash": "0e5e78d62219c5f4d005f179883ea8f653a485fd9ce78e67a5cc6a1b82cc1676"
   }
  }
 },
 "nbformat": 4,
 "nbformat_minor": 2
}
