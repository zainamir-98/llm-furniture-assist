{
 "cells": [
  {
   "cell_type": "code",
   "execution_count": 1,
   "metadata": {},
   "outputs": [],
   "source": [
    "import os\n",
    "\n",
    "import numpy as np\n",
    "import torch\n",
    "import matplotlib.pyplot as plt\n",
    "import cv2 as cv\n",
    "import json"
   ]
  },
  {
   "cell_type": "code",
   "execution_count": 2,
   "metadata": {},
   "outputs": [],
   "source": [
    "from sequential.model import LSTMActionClassifier\n",
    "from non_sequential.model import MLP\n",
    "from combine import Ensemble"
   ]
  },
  {
   "cell_type": "code",
   "execution_count": 3,
   "metadata": {},
   "outputs": [],
   "source": [
    "non_seq_model = MLP(816, 8)\n",
    "\n",
    "feature_vector_size = 1000\n",
    "hidden_size = 512\n",
    "num_frames = 3\n",
    "num_classes = 8\n",
    "seq_model = LSTMActionClassifier(feature_vector_size,\n",
    "                             num_frames,\n",
    "                             hidden_size,\n",
    "                             num_classes)"
   ]
  },
  {
   "cell_type": "code",
   "execution_count": 4,
   "metadata": {},
   "outputs": [
    {
     "data": {
      "text/plain": [
       "<All keys matched successfully>"
      ]
     },
     "execution_count": 4,
     "metadata": {},
     "output_type": "execute_result"
    }
   ],
   "source": [
    "state_dict_non_seq = torch.load(\"non_seq_model_params.pth\")\n",
    "state_dict_seq = torch.load(\"seq_model_params.pth\")\n",
    "\n",
    "non_seq_model.load_state_dict(state_dict_non_seq)\n",
    "seq_model.load_state_dict(state_dict_seq)"
   ]
  },
  {
   "cell_type": "code",
   "execution_count": 5,
   "metadata": {},
   "outputs": [],
   "source": [
    "ensemble = Ensemble(seq_model, non_seq_model)"
   ]
  },
  {
   "cell_type": "code",
   "execution_count": 6,
   "metadata": {},
   "outputs": [],
   "source": [
    "root_dir = os.path.join(\".\", \"test data\")\n",
    "# manually, since yolo integration is not done yet\n",
    "data = [\n",
    "    {\n",
    "        \"file_name\": \"00041.jpg\",\n",
    "        \"bb_info\": [\n",
    "            [515, 121, 135, 147],\n",
    "            [573, 184, 278, 292],\n",
    "            [203, 170, 303, 164]\n",
    "        ],\n",
    "        \"object_classes\": [5, 3, 0]\n",
    "    },\n",
    "    {\n",
    "        \"file_name\": \"00043.jpg\",\n",
    "        \"bb_info\": [\n",
    "            [542, 131, 218, 254],\n",
    "            [605, 226, 240, 253],\n",
    "            [336, 121, 277, 67]\n",
    "        ],\n",
    "        \"object_classes\": [5, 3, 0]\n",
    "    },\n",
    "    {\n",
    "        \"file_name\": \"00045.jpg\",\n",
    "        \"bb_info\": [\n",
    "            [577, 134, 213, 262],\n",
    "            [624, 217, 226, 258],\n",
    "            [497, 33, 305, 58]\n",
    "        ],\n",
    "        \"object_classes\": [5, 3, 0]\n",
    "    },\n",
    "]"
   ]
  },
  {
   "cell_type": "code",
   "execution_count": 7,
   "metadata": {},
   "outputs": [
    {
     "name": "stderr",
     "output_type": "stream",
     "text": [
      "c:\\Users\\Marc\\AppData\\Local\\Programs\\Python\\Python310\\lib\\site-packages\\torchvision\\transforms\\functional.py:1603: UserWarning: The default value of the antialias parameter of all the resizing transforms (Resize(), RandomResizedCrop(), etc.) will change from None to True in v0.17, in order to be consistent across the PIL and Tensor backends. To suppress this warning, directly pass antialias=True (recommended, future default), antialias=None (current default, which means False for Tensors and True for PIL), or antialias=False (only works on Tensors - PIL will still use antialiasing). This also applies if you are using the inference transforms from the models weights: update the call to weights.transforms(antialias=True).\n",
      "  warnings.warn(\n"
     ]
    }
   ],
   "source": [
    "predictions = ensemble.predict(root_dir, data, prob=True)"
   ]
  },
  {
   "cell_type": "code",
   "execution_count": 8,
   "metadata": {},
   "outputs": [
    {
     "data": {
      "text/plain": [
       "{'non-sequential': [[0.1795438975095749,\n",
       "   0.4835582375526428,\n",
       "   0.06574470549821854,\n",
       "   0.11743192374706268,\n",
       "   0.041275620460510254,\n",
       "   0.033652953803539276,\n",
       "   0.06021096929907799,\n",
       "   0.018581723794341087],\n",
       "  [0.07670272141695023,\n",
       "   0.8471351265907288,\n",
       "   0.017162462696433067,\n",
       "   0.024682795628905296,\n",
       "   0.007405831012874842,\n",
       "   0.00550815649330616,\n",
       "   0.018550200387835503,\n",
       "   0.002852613804861903],\n",
       "  [0.08361814171075821,\n",
       "   0.8744136691093445,\n",
       "   0.002211113926023245,\n",
       "   0.006557185668498278,\n",
       "   0.0035323507618159056,\n",
       "   0.009885214269161224,\n",
       "   0.017233651131391525,\n",
       "   0.002548637567088008]],\n",
       " 'sequential': [[0.1389925330877304,\n",
       "   0.14040105044841766,\n",
       "   0.11065858602523804,\n",
       "   0.14159323275089264,\n",
       "   0.11011433601379395,\n",
       "   0.11361302435398102,\n",
       "   0.14515472948551178,\n",
       "   0.09947250783443451]]}"
      ]
     },
     "execution_count": 8,
     "metadata": {},
     "output_type": "execute_result"
    }
   ],
   "source": [
    "predictions"
   ]
  },
  {
   "cell_type": "code",
   "execution_count": 9,
   "metadata": {},
   "outputs": [
    {
     "data": {
      "text/plain": [
       "'assemble leg'"
      ]
     },
     "execution_count": 9,
     "metadata": {},
     "output_type": "execute_result"
    }
   ],
   "source": [
    "ensemble.vote()"
   ]
  }
 ],
 "metadata": {
  "kernelspec": {
   "display_name": "Python 3",
   "language": "python",
   "name": "python3"
  },
  "language_info": {
   "codemirror_mode": {
    "name": "ipython",
    "version": 3
   },
   "file_extension": ".py",
   "mimetype": "text/x-python",
   "name": "python",
   "nbconvert_exporter": "python",
   "pygments_lexer": "ipython3",
   "version": "3.10.4"
  },
  "orig_nbformat": 4
 },
 "nbformat": 4,
 "nbformat_minor": 2
}
