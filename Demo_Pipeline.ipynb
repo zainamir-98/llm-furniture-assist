{
 "cells": [
  {
   "cell_type": "code",
   "execution_count": null,
   "metadata": {
    "executionInfo": {
     "elapsed": 4687,
     "status": "ok",
     "timestamp": 1688902741958,
     "user": {
      "displayName": "Deep Kale",
      "userId": "13963568342124222860"
     },
     "user_tz": -120
    },
    "id": "RwMSL9RFZSU7"
   },
   "outputs": [],
   "source": [
    "import os\n",
    "\n",
    "import numpy as np\n",
    "import torch\n",
    "import matplotlib.pyplot as plt\n",
    "import cv2 as cv\n",
    "import json"
   ]
  },
  {
   "cell_type": "code",
   "execution_count": null,
   "metadata": {},
   "outputs": [],
   "source": [
    "from object_detection.yolo_object_detection import object_detection"
   ]
  },
  {
   "cell_type": "code",
   "execution_count": null,
   "metadata": {
    "executionInfo": {
     "elapsed": 5131,
     "status": "ok",
     "timestamp": 1688902750847,
     "user": {
      "displayName": "Deep Kale",
      "userId": "13963568342124222860"
     },
     "user_tz": -120
    },
    "id": "mUR9g3TQZSU_"
   },
   "outputs": [],
   "source": [
    "from activity_recognition.sequential.model import LSTMActionClassifier\n",
    "from activity_recognition.non_sequential.model import MLP\n",
    "from activity_recognition.combine import Ensemble"
   ]
  },
  {
   "cell_type": "code",
   "execution_count": null,
   "metadata": {},
   "outputs": [],
   "source": [
    "!pip install gpt_index"
   ]
  },
  {
   "cell_type": "code",
   "execution_count": null,
   "metadata": {
    "colab": {
     "base_uri": "https://localhost:8080/"
    },
    "executionInfo": {
     "elapsed": 2905,
     "status": "ok",
     "timestamp": 1688902753750,
     "user": {
      "displayName": "Deep Kale",
      "userId": "13963568342124222860"
     },
     "user_tz": -120
    },
    "id": "Ns_GuOFzbkf8",
    "outputId": "3c2bf3fa-65fa-4efc-cc40-b891b381f4ba"
   },
   "outputs": [],
   "source": [
    "from chat.chat import create_answer"
   ]
  },
  {
   "cell_type": "code",
   "execution_count": null,
   "metadata": {
    "executionInfo": {
     "elapsed": 3,
     "status": "ok",
     "timestamp": 1688902753751,
     "user": {
      "displayName": "Deep Kale",
      "userId": "13963568342124222860"
     },
     "user_tz": -120
    },
    "id": "bviHgn9LZSVA"
   },
   "outputs": [],
   "source": [
    "non_seq_model = MLP(858, 8)\n",
    "seq_model = LSTMActionClassifier(1000, 3, 512, 8)\n",
    "\n",
    "state_dict_non_seq = torch.load(\"activity_recognition/with_hl_v2_non_seq_model_params.pth\", map_location=torch.device('cpu'))\n",
    "state_dict_seq = torch.load(\"activity_recognition/seq_model_params.pth\", map_location=torch.device('cpu'))\n",
    "\n",
    "non_seq_model.load_state_dict(state_dict_non_seq)\n",
    "seq_model.load_state_dict(state_dict_seq)"
   ]
  },
  {
   "cell_type": "code",
   "execution_count": null,
   "metadata": {
    "colab": {
     "base_uri": "https://localhost:8080/"
    },
    "executionInfo": {
     "elapsed": 7780,
     "status": "ok",
     "timestamp": 1688902761528,
     "user": {
      "displayName": "Deep Kale",
      "userId": "13963568342124222860"
     },
     "user_tz": -120
    },
    "id": "U-chyKK0ZSVA",
    "outputId": "d074d181-510e-4cd0-d945-39d27b088340"
   },
   "outputs": [],
   "source": [
    "ensemble = Ensemble(seq_model, non_seq_model)"
   ]
  },
  {
   "cell_type": "code",
   "execution_count": null,
   "metadata": {
    "executionInfo": {
     "elapsed": 3,
     "status": "ok",
     "timestamp": 1688902795299,
     "user": {
      "displayName": "Deep Kale",
      "userId": "13963568342124222860"
     },
     "user_tz": -120
    },
    "id": "QaeCLuSuc3kE"
   },
   "outputs": [],
   "source": [
    "action = \"drill\"\n",
    "root_dir = os.path.join(\"activity_recognition\", \"test data\", action)\n",
    "print(root_dir)"
   ]
  },
  {
   "cell_type": "code",
   "execution_count": null,
   "metadata": {
    "colab": {
     "base_uri": "https://localhost:8080/"
    },
    "executionInfo": {
     "elapsed": 318,
     "status": "ok",
     "timestamp": 1688903517997,
     "user": {
      "displayName": "Deep Kale",
      "userId": "13963568342124222860"
     },
     "user_tz": -120
    },
    "id": "vvYgWOftdEh1",
    "outputId": "d11817d1-1fe2-402a-c487-0280e5d05d3e"
   },
   "outputs": [],
   "source": [
    "img_dir = os.path.join(os.getcwd(), \"activity_recognition\", \"test data\", action)\n",
    "model_dir = os.path.join(os.getcwd(), \"object_detection\", \"weights\", \"best.pt\")\n",
    "conf = 0.5\n",
    "data = object_detection(img_dir=img_dir, model_dir=model_dir, conf=conf, save=True)\n",
    "print(data)"
   ]
  },
  {
   "cell_type": "code",
   "execution_count": null,
   "metadata": {},
   "outputs": [],
   "source": [
    "# show example yolo output\n",
    "yolo_out_dir = os.path.join(\"furniture_assembly\", \"predict4\")\n",
    "img = cv.cvtColor(cv.imread(os.path.join(yolo_out_dir, \"003.jpg\")), cv.COLOR_BGR2RGB)\n",
    "plt.imshow(img)\n",
    "plt.show()"
   ]
  },
  {
   "cell_type": "code",
   "execution_count": null,
   "metadata": {},
   "outputs": [],
   "source": [
    "# Hand landmarks detection\n",
    "\n",
    "# data = {'file_name': '00043.jpg', 'bb_info': [[655, 260, 212, 250], [310, 158, 159, 123], [484, 135, 285, 106], [503, 306, 698, 268], [94, 357, 188, 163], [725, 344, 239, 271], [709, 291, 287, 272], [64, 433, 128, 91], [121, 300, 103, 308]], 'object_classes': [5, 4, 0, 1, 0, 3, 1, 2, 0]}\n",
    "\n",
    "import hand_landmarks_detection.detect_hand_landmarks as hl\n",
    "img_path = os.path.join(img_dir, \"003.jpg\")\n",
    "\n",
    "hl_data = hl.detect(cv.imread(img_path), data[2]) # data[1]"
   ]
  },
  {
   "cell_type": "code",
   "execution_count": 1,
   "metadata": {},
   "outputs": [
    {
     "name": "stdout",
     "output_type": "stream",
     "text": [
      "Predicted Action: grab_drill\n"
     ]
    }
   ],
   "source": [
    "# Transformer network for activity recognition\n",
    "from transformer.inference_transformer import Inference_Transformer\n",
    "\n",
    "# Change these configurations according to loaded model. Config can be found in transformer/Hyperparameter Tuning/...\n",
    "num_classes = 8\n",
    "patch_size = 32\n",
    "embed_dim = 256\n",
    "num_heads = 2\n",
    "num_layers = 1\n",
    "\n",
    "model_path = \"transformer/best_transformer.pth\"  # Replace with the model path. Models in transformer/Hyperparameter Tuning/...\n",
    "class_labels = ['assemble_leg', 'drop_drill', 'drop_screw_driver', 'grab_drill', 'take_leg', 'take_screw_driver', 'use_drill', 'use_screw_driver']\n",
    "image_path = \"transformer/Test Data/41.jpg\"  # Replace with the image path\n",
    "\n",
    "#inference_transformer = Inference_Transformer(model_path, num_classes, embed_dim, num_heads, num_layers, class_labels)\n",
    "inference_transformer = Inference_Transformer(model_path, num_classes, embed_dim, num_heads, num_layers, class_labels, patch_size)\n",
    "\n",
    "predicted_class = inference_transformer.predict(image_path)\n",
    "print(f\"Predicted Action: {predicted_class}\")"
   ]
  },
  {
   "cell_type": "code",
   "execution_count": null,
   "metadata": {
    "colab": {
     "base_uri": "https://localhost:8080/"
    },
    "executionInfo": {
     "elapsed": 14000,
     "status": "ok",
     "timestamp": 1688903581749,
     "user": {
      "displayName": "Deep Kale",
      "userId": "13963568342124222860"
     },
     "user_tz": -120
    },
    "id": "12hO3DBjZSVD",
    "outputId": "866c8c33-384c-4276-dd03-297768316949"
   },
   "outputs": [],
   "source": [
    "# For hand landmark detection, check activity_recognition/non_sequential/data_non_seq.py\n",
    "\n",
    "predictions = ensemble.predict(root_dir, data, prob=True)"
   ]
  },
  {
   "cell_type": "code",
   "execution_count": null,
   "metadata": {
    "colab": {
     "base_uri": "https://localhost:8080/",
     "height": 36
    },
    "executionInfo": {
     "elapsed": 348,
     "status": "ok",
     "timestamp": 1688903590427,
     "user": {
      "displayName": "Deep Kale",
      "userId": "13963568342124222860"
     },
     "user_tz": -120
    },
    "id": "I_I0V5IKZSVE",
    "outputId": "b447e30c-ca4e-4055-c946-d090fec19fa9"
   },
   "outputs": [],
   "source": [
    "ensemble.vote()"
   ]
  },
  {
   "cell_type": "code",
   "execution_count": null,
   "metadata": {},
   "outputs": [],
   "source": [
    "vector_index = os.path.join(\"chat\", \"data\", \"vector_index.json\")\n",
    "response = create_answer(vector_index, ensemble.vote())\n",
    "print(response)"
   ]
  }
 ],
 "metadata": {
  "accelerator": "GPU",
  "colab": {
   "gpuType": "T4",
   "provenance": []
  },
  "kernelspec": {
   "display_name": "Python 3.9.12 ('base')",
   "language": "python",
   "name": "python3"
  },
  "language_info": {
   "codemirror_mode": {
    "name": "ipython",
    "version": 3
   },
   "file_extension": ".py",
   "mimetype": "text/x-python",
   "name": "python",
   "nbconvert_exporter": "python",
   "pygments_lexer": "ipython3",
   "version": "3.10.6"
  },
  "vscode": {
   "interpreter": {
    "hash": "0e5e78d62219c5f4d005f179883ea8f653a485fd9ce78e67a5cc6a1b82cc1676"
   }
  }
 },
 "nbformat": 4,
 "nbformat_minor": 1
}
